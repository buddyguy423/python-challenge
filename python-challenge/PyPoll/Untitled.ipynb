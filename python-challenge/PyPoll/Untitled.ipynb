{
 "cells": [
  {
   "cell_type": "code",
   "execution_count": 20,
   "metadata": {},
   "outputs": [
    {
     "name": "stdout",
     "output_type": "stream",
     "text": [
      "Election Results\n",
      "-------------------------\n",
      "Total Votes: 3521001\n",
      "-------------------------\n",
      "Khan: 63.000% (2218231)\n",
      "Khan: 20.000% (704200)\n",
      "Khan: 14.000% (492940)\n",
      "Khan: 3.000% (105630)\n",
      "-------------------------\n",
      "Winner:Khan\n",
      "-------------------------\n"
     ]
    }
   ],
   "source": [
    "import os\n",
    "import csv\n",
    "\n",
    "pollcsv = os.path.join('..','Resources', 'election_data.csv')\n",
    "\n",
    "with open (pollcsv) as election_data:\n",
    "    read = list(csv.reader(election_data))\n",
    "    #next(election_data)\n",
    "    \n",
    "    votes = []\n",
    "    candidates = []\n",
    "    \n",
    "    \n",
    "#use counts\n",
    "    for row in read:\n",
    "        votes.append(row[2])\n",
    "    \n",
    "    for candidate in votes:\n",
    "        if candidate not in candidates:\n",
    "            candidates.append(candidate)\n",
    "    Khan = votes.count('Khan')\n",
    "    Correy = votes.count('Correy')\n",
    "    Li = votes.count('Li')\n",
    "    oTooley = votes.count(\"O'Tooley\")\n",
    "    total_count = len(votes)-1 \n",
    "\n",
    "    Khan_perecent = Khan/total_count\n",
    "    Correy_perecent = Correy/total_count\n",
    "    Li_perecent = Li/total_count\n",
    "    oTooley_perecent = oTooley/total_count\n",
    "    result_dict = {'Khan': Khan, 'Correy': Correy, 'Li':Li, \"O'Tooley\":oTooley }\n",
    "    result_max = max(result_dict, key=result_dict.get)\n",
    "    \n",
    "    \n",
    "    \n",
    "    print(\"Election Results\")\n",
    "    print(\"-------------------------\")\n",
    "    print(\"Total Votes: \" f\"{total_count}\")\n",
    "    print(\"-------------------------\")\n",
    "    print(\"Khan: {:.3%} ({})\".format(Khan_perecent, Khan))\n",
    "    print(\"Khan: {:.3%} ({})\".format(Correy_perecent, Correy))\n",
    "    print(\"Khan: {:.3%} ({})\".format(Li_perecent, Li))\n",
    "    print(\"Khan: {:.3%} ({})\".format(oTooley_perecent, oTooley))\n",
    "    print(\"-------------------------\")\n",
    "    print(\"Winner:\" f\"{result_max}\")\n",
    "    print(\"-------------------------\")\n",
    "    \n",
    "    with open(\"Outfile.txt\", \"w\") as text_file:\n",
    "        print(\"Election Results\", file = text_file)\n",
    "        print(\"-------------------------\", file = text_file)\n",
    "        print(\"Total Votes: \" f\"{total_count}\", file = text_file)\n",
    "        print(\"-------------------------\", file = text_file)\n",
    "        print(\"Khan: {:.3%} ({})\".format(Khan_perecent, Khan), file = text_file)\n",
    "        print(\"Khan: {:.3%} ({})\".format(Correy_perecent, Correy), file = text_file)\n",
    "        print(\"Khan: {:.3%} ({})\".format(Li_perecent, Li), file = text_file)\n",
    "        print(\"Khan: {:.3%} ({})\".format(oTooley_perecent, oTooley), file = text_file)\n",
    "        print(\"-------------------------\", file = text_file)\n",
    "        print(\"Winner:\" f\"{result_max}\", file = text_file)\n",
    "        print(\"-------------------------\", file = text_file)"
   ]
  },
  {
   "cell_type": "code",
   "execution_count": null,
   "metadata": {},
   "outputs": [],
   "source": []
  }
 ],
 "metadata": {
  "kernelspec": {
   "display_name": "Python 3",
   "language": "python",
   "name": "python3"
  },
  "language_info": {
   "codemirror_mode": {
    "name": "ipython",
    "version": 3
   },
   "file_extension": ".py",
   "mimetype": "text/x-python",
   "name": "python",
   "nbconvert_exporter": "python",
   "pygments_lexer": "ipython3",
   "version": "3.7.0"
  }
 },
 "nbformat": 4,
 "nbformat_minor": 2
}
