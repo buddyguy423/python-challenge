{
 "cells": [
  {
   "cell_type": "code",
   "execution_count": 9,
   "metadata": {},
   "outputs": [],
   "source": [
    "import os\n",
    "import csv\n",
    "\n",
    "bankcsv = os.path.join('..','Resources', 'budget_data.csv')\n",
    "\n",
    "total = []\n",
    "revenue_delta = []\n",
    "dates = []\n",
    "rev = []\n",
    "\n",
    "\n",
    "with open(bankcsv, 'r') as csvfile: \n",
    "    \n",
    "   \n",
    "    csvreader = csv.reader(csvfile, delimiter=',')\n",
    "    next(csvreader)\n",
    "    row_count = sum(1 for row in csvreader)\n",
    "    csvlist = list(csvreader)\n",
    "    \n"
   ]
  },
  {
   "cell_type": "code",
   "execution_count": 55,
   "metadata": {},
   "outputs": [],
   "source": [
    "import os\n",
    "import csv\n",
    "\n",
    "bankcsv = os.path.join('..','Resources', 'budget_data.csv')\n",
    "\n",
    "\n",
    "delta = []\n",
    "\n",
    "\n",
    "\n",
    "with open(bankcsv, 'r') as csvfile: \n",
    "        \n",
    "    \n",
    "    csvreader = csv.reader(csvfile, delimiter=',')\n",
    "    csvlist = list(csvreader)\n",
    "    row_count = sum(1 for row in csvfile) - 1\n",
    "    rev = [i[1] for i in csvlist]\n",
    "    dates = [i[0] for i in csvlist]\n",
    "    rev.pop(0)\n",
    "    dates.pop(0)\n",
    "    total = 0\n",
    "    avg_gain = total/row_count\n",
    "    \n",
    "    \n",
    "    \n",
    "    for i in range(0, len(rev)):\n",
    "        delta.append(rev[i]-rev[i-1] for i in rev)\n",
    "        #max_delta = max(delta)\n",
    "        #min_delta = min(delta)\n",
    "        #max_date = str(dates[delta.index(max_delta)])\n",
    "        #min_date = str(dates[delta.index(min_delta)])\n",
    "        total = total + int(rev[i])\n",
    "        avg_gain = total/len(rev)\n",
    "  \n",
    "        \n",
    "          \n",
    "      "
   ]
  },
  {
   "cell_type": "code",
   "execution_count": 58,
   "metadata": {},
   "outputs": [
    {
     "name": "stdout",
     "output_type": "stream",
     "text": [
      "-38382578.0\n"
     ]
    }
   ],
   "source": [
    "print(avg_gain)"
   ]
  },
  {
   "cell_type": "code",
   "execution_count": null,
   "metadata": {},
   "outputs": [],
   "source": []
  }
 ],
 "metadata": {
  "kernelspec": {
   "display_name": "Python 3",
   "language": "python",
   "name": "python3"
  },
  "language_info": {
   "codemirror_mode": {
    "name": "ipython",
    "version": 3
   },
   "file_extension": ".py",
   "mimetype": "text/x-python",
   "name": "python",
   "nbconvert_exporter": "python",
   "pygments_lexer": "ipython3",
   "version": "3.7.0"
  }
 },
 "nbformat": 4,
 "nbformat_minor": 2
}
