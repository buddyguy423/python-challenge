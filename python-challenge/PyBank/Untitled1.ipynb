{
 "cells": [
  {
   "cell_type": "code",
   "execution_count": 30,
   "metadata": {},
   "outputs": [
    {
     "name": "stdout",
     "output_type": "stream",
     "text": [
      "Financial Analysis\n",
      "-----------------------------------\n",
      "Total Months: 86\n",
      "Total Revenue: $ 38382578.0\n",
      "Average Revenue Change: $ -2288\n",
      "Greatest Increase in Revenue: Jan-2012, (1926159.0)\n",
      "Greatest Decrease in Revenue: Aug-2013, (-2196167.0)\n"
     ]
    }
   ],
   "source": [
    "import os\n",
    "import csv\n",
    "\n",
    "bankcsv = os.path.join('..','Resources', 'budget_data.csv')\n",
    "\n",
    "\n",
    "\n",
    "with open(bankcsv) as csvfile:\n",
    "    read = csv.reader(csvfile)\n",
    "    \n",
    "    next(read)\n",
    "    revenue_delta = []\n",
    "    dates = []\n",
    "    rev = []\n",
    "    delta = []\n",
    "    \n",
    "    for row in read:\n",
    "        rev.append(float(row[1]))\n",
    "        dates.append(row[0])\n",
    "        \n",
    "    for i in range(1, len(rev)):\n",
    "        delta.append(rev[i]-rev[i-1])\n",
    "        avg_delta = sum(delta)/len(rev)\n",
    "        \n",
    "        min_delta = min(delta)\n",
    "        max_delta = max(delta)\n",
    "        max_d_date = str(dates[delta.index(max(delta))])\n",
    "        min_d_date = str(dates[delta.index(min(delta))])\n",
    "    \n",
    "    print(\"Financial Analysis\")\n",
    "    print(\"-----------------------------------\")\n",
    "    print(\"Total Months:\", len(dates))\n",
    "    print(\"Total Revenue: $\", sum(rev))\n",
    "    print(\"Average Revenue Change: $\", round(avg_delta))\n",
    "    print(\"Greatest Increase in Revenue: \" f\"{max_d_date},\", f\"({max_delta})\")\n",
    "    print(\"Greatest Decrease in Revenue: \" f\"{min_d_date},\", f\"({min_delta})\")\n",
    "    \n",
    "    \n",
    "    \n",
    "    with open (\"Outfile.txt\", \"w\") as text_file:\n",
    "        print(\"Financial Analysis\", file= text_file)\n",
    "        print(\"-----------------------------------\", file = text_file)\n",
    "        print(\"Total Months:\", len(dates), file= text_file)\n",
    "        print(\"Total Revenue: $\", sum(rev), file= text_file)\n",
    "        print(\"Average Revenue Change: $\", round(avg_delta), file= text_file)\n",
    "        print(\"Greatest Increase in Revenue: \" f\"{max_d_date},\", f\"({max_delta})\",file= text_file)\n",
    "        print(\"Greatest Decrease in Revenue: \" f\"{min_d_date},\", f\"({min_delta})\",file= text_file)\n",
    "\n",
    "\n",
    "\n",
    "\n",
    "    \n",
    "    \n",
    "    "
   ]
  },
  {
   "cell_type": "code",
   "execution_count": null,
   "metadata": {},
   "outputs": [],
   "source": [
    "    print(\"Financial Analysis\")\n",
    "    print(\"-----------------------------------\")\n",
    "    print(\"Total Months:\", len(date))\n",
    "    print(\"Total Revenue: $\", sum(revenue))"
   ]
  }
 ],
 "metadata": {
  "kernelspec": {
   "display_name": "Python 3",
   "language": "python",
   "name": "python3"
  },
  "language_info": {
   "codemirror_mode": {
    "name": "ipython",
    "version": 3
   },
   "file_extension": ".py",
   "mimetype": "text/x-python",
   "name": "python",
   "nbconvert_exporter": "python",
   "pygments_lexer": "ipython3",
   "version": "3.7.0"
  }
 },
 "nbformat": 4,
 "nbformat_minor": 2
}
